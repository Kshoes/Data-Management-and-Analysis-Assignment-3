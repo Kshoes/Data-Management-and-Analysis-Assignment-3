{
 "cells": [
  {
   "cell_type": "markdown",
   "metadata": {},
   "source": [
    "# Homework 03\n",
    "\n",
    "## Part 1 - Selecting a Data Set, Adding Documentation\n",
    "\n",
    "1. Name: Percent Asian of NYC Sub-Boroughs\n",
    "2. Link to Data: [CoreDataNYC](http://app.coredata.nyc/)\n",
    "3. Source / Origin: CoreData is the Furman Center for Real Estate and Urban Policy's data finding tool. CoreData collects a broad array of data on demographics, neighborhood conditions, transportation, housing stock and other aspects of the New York City real estate market.\n",
    "4. Motivation: Curiosity about Asian demographics in NYC\n"
   ]
  },
  {
   "cell_type": "code",
   "execution_count": 3,
   "metadata": {},
   "outputs": [
    {
     "name": "stdout",
     "output_type": "stream",
     "text": "short_name,long_name,Sub-Borough Area,2000,2005,2006,2007,2008,2009,2010,2011,2012,2013,2014,2015,2016,2017,2018\n\npop_race_asian_pct,Percent Asian,Flatlands/Canarsie,0.0366154098828702,0.034630031499546,0.0297361,0.0214539,0.028877,0.0194385,0.0371066,0.0457057,0.0252892,0.0459823,0.0536934,0.0467075,0.0385264,0.0465736,0.0621763\n\npop_race_asian_pct,Percent Asian,Astoria,0.125366843658412,0.150156969099044,0.129747,0.159438,0.0997591,0.105809,0.144667,0.121605,0.130391,0.163289,0.133342,0.1608,0.167634,0.166954,0.141766\n\n"
    }
   ],
   "source": [
    "## Part 2 - Show Some Data and Document its Format\n",
    "\n",
    "# 1) \n",
    "f = open(\"sub-borougharea-percentasian.csv\")\n",
    "print(f.readline())\n",
    "print(f.readline())\n",
    "print(f.readline())\n"
   ]
  },
  {
   "cell_type": "markdown",
   "metadata": {},
   "source": [
    "2) \n",
    "\n",
    "Fields: Sub-Borough name, Years from 2005-2018\n",
    "\n",
    "    Sub-Borough names: strings\n",
    "    Years: float percentages\n",
    "\n",
    "Questions:\n",
    "\n",
    "    1) Which sub-borough has the highest/lowest percentage of asians in 2018?\n",
    "    2) Which sub-borough had the highest percentage growth of asians from 2005 to 2018?\n",
    "    "
   ]
  },
  {
   "cell_type": "markdown",
   "metadata": {},
   "source": [
    "## Part 3 - Descriptive Statistics"
   ]
  },
  {
   "cell_type": "markdown",
   "metadata": {},
   "source": [
    "## Part 4 - Confirm Calculations"
   ]
  },
  {
   "cell_type": "markdown",
   "metadata": {},
   "source": [
    "## Part 5 - Visualizations"
   ]
  },
  {
   "cell_type": "markdown",
   "metadata": {},
   "source": [
    "## Part 6 - Conclusions"
   ]
  },
  {
   "cell_type": "code",
   "execution_count": null,
   "metadata": {},
   "outputs": [],
   "source": []
  }
 ],
 "metadata": {
  "kernelspec": {
   "display_name": "Python 3",
   "language": "python",
   "name": "python3"
  },
  "language_info": {
   "codemirror_mode": {
    "name": "ipython",
    "version": 3
   },
   "file_extension": ".py",
   "mimetype": "text/x-python",
   "name": "python",
   "nbconvert_exporter": "python",
   "pygments_lexer": "ipython3",
   "version": "3.7.4-final"
  }
 },
 "nbformat": 4,
 "nbformat_minor": 4
}