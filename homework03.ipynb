{
 "cells": [
  {
   "cell_type": "markdown",
   "metadata": {},
   "source": [
    "# Homework 03\n",
    "\n",
    "## Part 1 - Selecting a Data Set, Adding Documentation\n",
    "\n",
    "1. Name: Percent Asian of NYC Sub-Boroughs\n",
    "2. Link to Data: [CoreDataNYC](http://app.coredata.nyc/)\n",
    "3. Source / Origin: CoreData is the Furman Center for Real Estate and Urban Policy's data finding tool. CoreData collects a broad array of data on demographics, neighborhood conditions, transportation, housing stock and other aspects of the New York City real estate market.\n",
    "4. Motivation: Curiosity about Asian demographics in NYC\n"
   ]
  },
  {
   "cell_type": "code",
   "execution_count": 3,
   "metadata": {},
   "outputs": [
    {
     "name": "stdout",
     "output_type": "stream",
     "text": "short_name,long_name,Sub-Borough Area,2000,2005,2006,2007,2008,2009,2010,2011,2012,2013,2014,2015,2016,2017,2018\n\npop_race_asian_pct,Percent Asian,Flatlands/Canarsie,0.0366154098828702,0.034630031499546,0.0297361,0.0214539,0.028877,0.0194385,0.0371066,0.0457057,0.0252892,0.0459823,0.0536934,0.0467075,0.0385264,0.0465736,0.0621763\n\npop_race_asian_pct,Percent Asian,Astoria,0.125366843658412,0.150156969099044,0.129747,0.159438,0.0997591,0.105809,0.144667,0.121605,0.130391,0.163289,0.133342,0.1608,0.167634,0.166954,0.141766\n\n"
    }
   ],
   "source": [
    "## Part 2 - Show Some Data and Document its Format\n",
    "\n",
    "# 1) \n",
    "f = open(\"sub-borougharea-percentasian.csv\")\n",
    "print(f.readline())\n",
    "print(f.readline())\n",
    "print(f.readline())\n",
    "f.close()\n"
   ]
  },
  {
   "cell_type": "markdown",
   "metadata": {},
   "source": [
    "2) \n",
    "\n",
    "Fields: Sub-Borough name, Years from 2005-2018\n",
    "\n",
    "    Sub-Borough names: strings\n",
    "    Years: float percentages\n",
    "\n",
    "Questions:\n",
    "\n",
    "    1) Which sub-borough has the highest/lowest percentage of asians in 2018?\n",
    "    2) Which sub-borough had the highest percentage growth of asians from 2005 to 2018?\n",
    "    "
   ]
  },
  {
   "cell_type": "code",
   "execution_count": 25,
   "metadata": {},
   "outputs": [
    {
     "name": "stdout",
     "output_type": "stream",
     "text": "Sub-Borough Area      2000      2018\n0                     Flatlands/Canarsie  0.036615  0.062176\n1                                Astoria  0.125367  0.141766\n2                     Sunnyside/Woodside  0.299103  0.400145\n3   Greenwich Village/Financial District  0.145468  0.144573\n4              Lower East Side/Chinatown  0.348445  0.272766\n5                Chelsea/Clinton/Midtown  0.098461  0.171294\n6             Stuyvesant Town/Turtle Bay  0.107438  0.185281\n7                        Upper West Side  0.055688  0.107875\n8                        Upper East Side  0.063125  0.113509\n9   Morningside Heights/Hamilton Heights  0.052049  0.082536\n10                        Central Harlem  0.008360  0.044167\n11                           East Harlem  0.027332  0.073782\n12             Washington Heights/Inwood  0.020430  0.038913\n13                Mott Haven/Hunts Point  0.004416  0.007128\n14                    Morrisania/Belmont  0.008088  0.009313\n15            Highbridge/South Concourse  0.012277  0.009917\n16            University Heights/Fordham  0.015505  0.012817\n17           Kingsbridge Heights/Mosholu  0.065884  0.040162\n18                 Riverdale/Kingsbridge  0.049105  0.038625\n19                 Soundview/Parkchester  0.038955  0.111755\n20                Throgs Neck/Co-op City  0.016962  0.033551\n21                        Pelham Parkway  0.063646  0.070879\n22             Williamsbridge/Baychester  0.018895  0.017644\n23               Williamsburg/Greenpoint  0.039079  0.061029\n24          Brooklyn Heights/Fort Greene  0.042283  0.089439\n25                    Bedford Stuyvesant  0.008393  0.031899\n26                              Bushwick  0.027835  0.042290\n27           East New York/Starrett City  0.039399  0.032202\n28            Park Slope/Carroll Gardens  0.046867  0.092668\n29                           Sunset Park  0.217866  0.290235\n30  North Crown Heights/Prospect Heights  0.015424  0.039203\n31                   South Crown Heights  0.007722  0.019650\n32                             Bay Ridge  0.135896  0.228554\n33                           Bensonhurst  0.230973  0.408889\n34                          Borough Park  0.111550  0.139994\n35                          Coney Island  0.095946  0.136255\n36                              Flatbush  0.079620  0.111468\n37              Sheepshead Bay/Gravesend  0.123066  0.198024\n38                Brownsville/Ocean Hill  0.005608  0.007181\n39                         East Flatbush  0.009947  0.012470\n40                       Jackson Heights  0.136042  0.147810\n41                       Elmhurst/Corona  0.281872  0.327527\n42              Middle Village/Ridgewood  0.063319  0.085046\n43                Rego Park/Forest Hills  0.214059  0.304483\n44                   Flushing/Whitestone  0.360889  0.534820\n45               Hillcrest/Fresh Meadows  0.237230  0.333833\n46                  Ozone Park/Woodhaven  0.160669  0.246227\n47         South Ozone Park/Howard Beach  0.128187  0.271443\n48                   Bayside/Little Neck  0.263934  0.489269\n49                               Jamaica  0.046823  0.133101\n50                        Queens Village  0.100174  0.177454\n51                             Rockaways  0.015833  0.046571\n52                           North Shore  0.052248  0.102643\n53                            Mid-Island  0.088050  0.150529\n54                           South Shore  0.032718  0.060281\n"
    }
   ],
   "source": [
    "## Part 3 - Descriptive Statistics\n",
    "\n",
    "import pandas as pd\n",
    "import numpy as np\n",
    "\n",
    "table = pd.read_csv(\"sub-borougharea-percentasian.csv\", sep=\",\")\n",
    "\n",
    "# print(table)\n",
    "\n",
    "print(table[[\"Sub-Borough Area\", \"2000\", \"2018\"]])\n",
    "\n",
    "# f = open(\"sub-borougharea-percentasian.csv\")\n",
    "\n",
    "# index = []\n",
    "# columns = f.readline().split(\",\")[3:]\n",
    "# # print(columns)\n",
    "# data = []\n",
    "\n",
    "# for lines in f.readlines():\n",
    "#     index.append(lines.split(\",\")[2])\n",
    "#     row = lines.split(\",\")[3:]\n",
    "#     data.append(row)\n",
    "\n",
    "# f.close() \n",
    "\n",
    "# # print(np.asarray(data))\n",
    "# # print(np.asarray(index))\n",
    "# # print(np.asarray(columns))\n",
    "\n",
    "# table = pd.DataFrame(np.asarray(data), np.asarray(index), np.asarray(columns))\n",
    "# print(table)"
   ]
  },
  {
   "cell_type": "markdown",
   "metadata": {},
   "source": [
    "## Part 4 - Confirm Calculations"
   ]
  },
  {
   "cell_type": "markdown",
   "metadata": {},
   "source": [
    "## Part 5 - Visualizations"
   ]
  },
  {
   "cell_type": "markdown",
   "metadata": {},
   "source": [
    "## Part 6 - Conclusions"
   ]
  },
  {
   "cell_type": "code",
   "execution_count": null,
   "metadata": {},
   "outputs": [],
   "source": []
  }
 ],
 "metadata": {
  "kernelspec": {
   "display_name": "Python 3",
   "language": "python",
   "name": "python3"
  },
  "language_info": {
   "codemirror_mode": {
    "name": "ipython",
    "version": 3
   },
   "file_extension": ".py",
   "mimetype": "text/x-python",
   "name": "python",
   "nbconvert_exporter": "python",
   "pygments_lexer": "ipython3",
   "version": "3.7.4-final"
  }
 },
 "nbformat": 4,
 "nbformat_minor": 4
}